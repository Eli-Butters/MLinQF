{
 "cells": [
  {
   "cell_type": "code",
   "execution_count": 25,
   "metadata": {},
   "outputs": [],
   "source": [
    "import pandas as pd\n",
    "import numpy as np\n",
    "import matplotlib.pyplot as plt\n",
    "\n",
    "from sklearn import preprocessing\n",
    "from sklearn.model_selection import TimeSeriesSplit\n",
    "\n",
    "import pickle\n",
    "\n",
    "from OU import OU"
   ]
  },
  {
   "attachments": {},
   "cell_type": "markdown",
   "metadata": {},
   "source": [
    "Get Data"
   ]
  },
  {
   "cell_type": "code",
   "execution_count": 26,
   "metadata": {},
   "outputs": [],
   "source": [
    "goog_data = pd.read_csv('./data/goog17-18.csv').iloc[:, 1:]\n",
    "googl_data = pd.read_csv('./data/googl17-18.csv').iloc[:, 1:]"
   ]
  },
  {
   "attachments": {},
   "cell_type": "markdown",
   "metadata": {},
   "source": [
    "## Creating Trading Signals"
   ]
  },
  {
   "attachments": {},
   "cell_type": "markdown",
   "metadata": {},
   "source": [
    "We will create 4 technical trading signals here:\n",
    "\n",
    "1. Simple Moving Average\n",
    "2. Exponential Weighted Moving Average\n",
    "3. Money Flow Index\n",
    "4. Relative Strength Index"
   ]
  },
  {
   "attachments": {},
   "cell_type": "markdown",
   "metadata": {},
   "source": [
    "### Simple Moving Average"
   ]
  },
  {
   "cell_type": "code",
   "execution_count": 55,
   "metadata": {},
   "outputs": [],
   "source": [
    "def sma(prices, window):\n",
    "    '''\n",
    "    This SMA function uses Close prices calculated from the window number of periods before but\n",
    "    does not use the current period as you would only have that at the end of the minute at which\n",
    "    point you are in the next minute and cannot trade within the last minute\n",
    "    '''\n",
    "    sma = prices.rolling(window).mean()[window-1:]\n",
    "    sma.index += 1\n",
    "    sma = sma[:-1]\n",
    "    return sma"
   ]
  },
  {
   "cell_type": "code",
   "execution_count": 83,
   "metadata": {},
   "outputs": [],
   "source": [
    "def smaOPEN(prices, window):\n",
    "    '''\n",
    "    This SMA function uses OPEN prices because you will have this at the open of each minute\n",
    "    '''\n",
    "    sma = prices.rolling(window).mean()[window-1:]\n",
    "    return sma"
   ]
  },
  {
   "attachments": {},
   "cell_type": "markdown",
   "metadata": {},
   "source": [
    "### Exponential Weighted Moving Average"
   ]
  },
  {
   "cell_type": "code",
   "execution_count": 84,
   "metadata": {},
   "outputs": [],
   "source": [
    "def ewma(prices, window):\n",
    "    '''\n",
    "    This ewma uses just the last window number of close prices\n",
    "    '''\n",
    "    ewma = pd.Series.ewm(prices, span=window).mean()[window-1:]\n",
    "    ewma.index += 1\n",
    "    ewma = ewma[:-1]\n",
    "    return ewma"
   ]
  },
  {
   "cell_type": "code",
   "execution_count": 85,
   "metadata": {},
   "outputs": [],
   "source": [
    "def ewmaOPEN(prices, window):\n",
    "    '''\n",
    "    This EWMA function uses OPEN prices because you will have this at the open of each minute\n",
    "    '''\n",
    "    ewma = pd.Series.ewm(prices).mean()[window-1:]\n",
    "    return ewma"
   ]
  },
  {
   "attachments": {},
   "cell_type": "markdown",
   "metadata": {},
   "source": [
    "### Money Flow Index"
   ]
  },
  {
   "cell_type": "code",
   "execution_count": 135,
   "metadata": {},
   "outputs": [],
   "source": [
    "def mfi(df, window):\n",
    "    '''\n",
    "    This MFI function looks at the the index-1 MFI compared to the index-2 MFI in order to \n",
    "    account for look forward bias because this uses volume and close price which are both only\n",
    "    available when the period ends\n",
    "    '''\n",
    "    mf = (df['HIGH'] + df['LOW'] + df['CLOSE']) / 3\n",
    "    i = 1\n",
    "    pos_mf = [0, 0]\n",
    "    neg_mf = [0, 0]\n",
    "    print(mf[:10])\n",
    "    while i < df.index[-1]:\n",
    "        if mf[i] > mf[i - 1]:\n",
    "            pos_mf.append(mf[i] * df.loc[i, 'VOLUME'])\n",
    "            neg_mf.append(0)\n",
    "        else:\n",
    "            pos_mf.append(0)\n",
    "            neg_mf.append(mf[i] * df.loc[i, 'VOLUME'])\n",
    "        i += 1\n",
    "\n",
    "    pos_mf = pd.Series(pos_mf)\n",
    "    neg_mf = pd.Series(neg_mf)\n",
    "\n",
    "    pos_sum = pd.Series(pos_mf.rolling(window).sum())\n",
    "    neg_sum = pd.Series(neg_mf.rolling(window).sum())\n",
    "    print(pos_sum[window:])\n",
    "    mfr = (window - pos_sum) / (window - neg_sum)\n",
    "    mfi = abs(100 - (100 / (1 + mfr)))\n",
    "\n",
    "    return mfi[window:]"
   ]
  },
  {
   "cell_type": "code",
   "execution_count": 136,
   "metadata": {},
   "outputs": [
    {
     "name": "stdout",
     "output_type": "stream",
     "text": [
      "0    786.201667\n",
      "1    784.256667\n",
      "2    783.051000\n",
      "3    783.648667\n",
      "4    783.656667\n",
      "5    784.832000\n",
      "6    784.780000\n",
      "7    784.160000\n",
      "8    784.806667\n",
      "9    784.733333\n",
      "dtype: float64\n",
      "0                  NaN\n",
      "1                  NaN\n",
      "2                  NaN\n",
      "3                  NaN\n",
      "4         5.055318e+06\n",
      "              ...     \n",
      "203448    3.473529e+07\n",
      "203449    8.224832e+07\n",
      "203450    1.091384e+08\n",
      "203451    1.384726e+08\n",
      "203452    1.241017e+08\n",
      "Length: 203453, dtype: float64\n"
     ]
    }
   ],
   "source": [
    "googMFI = mfi(goog_data, 5)"
   ]
  },
  {
   "attachments": {},
   "cell_type": "markdown",
   "metadata": {},
   "source": [
    "### Relative Strength Index"
   ]
  },
  {
   "cell_type": "code",
   "execution_count": 129,
   "metadata": {},
   "outputs": [],
   "source": [
    "def rsi(df, window):\n",
    "    i = 1\n",
    "    pos_period = [0]\n",
    "    neg_period = [0]\n",
    "    dfOpen = df['OPEN']\n",
    "\n",
    "    while i < dfOpen.index[-1]:\n",
    "        if dfOpen[i] > dfOpen[i - 1]:\n",
    "            pos_period.append(dfOpen[i])\n",
    "            neg_period.append(0)\n",
    "        else:\n",
    "            pos_period.append(0)\n",
    "            neg_period.append(dfOpen[i])\n",
    "        i += 1\n",
    "    print(pos_period[:10])\n",
    "    pos_period = pd.Series(pos_period)\n",
    "    neg_period = pd.Series(neg_period)\n",
    "\n",
    "    pos_sum = pd.Series(pos_period.rolling(window).sum())\n",
    "    neg_sum = pd.Series(neg_period.rolling(window).sum())\n",
    "\n",
    "    rs = (window - pos_sum) / (window - neg_sum)\n",
    "    rsi = abs(100 - (100 / (1 + rs)))\n",
    "    return rsi[window:]"
   ]
  },
  {
   "attachments": {},
   "cell_type": "markdown",
   "metadata": {},
   "source": [
    "## Ornstein Uhlenbeck to model residuals"
   ]
  },
  {
   "attachments": {},
   "cell_type": "markdown",
   "metadata": {},
   "source": [
    "the Ornsteing Ulhenbeck process is used to model the residual term becuase it is a stochastic process such that the object modeled by the process always drifts towards its long term mean"
   ]
  },
  {
   "cell_type": "code",
   "execution_count": 7,
   "metadata": {},
   "outputs": [],
   "source": [
    "def create_label_func(threshold=0.001, window=5):\n",
    "    \"\"\"\n",
    "    Given the spreads of the residuals between our pair, the label is 1\n",
    "    if the spread exceeds the threshold, and 0 otherwise.\n",
    "\n",
    "    :residuals:     spreads of the residuals of the pair\n",
    "    :window:        how far in the future we want to evaluate our position\n",
    "    :threshold:     the percent change threshold that determines whether a trade happens\n",
    "\n",
    "    :ret:           list of labels of 1 or 0\n",
    "    \"\"\"\n",
    "\n",
    "    def create_labels(residuals):\n",
    "        min_val = residuals[::-1].rolling(window=window).min()[::-1]\n",
    "        min_val.iloc[-window:] = residuals.iloc[-window:]\n",
    "\n",
    "        a = (residuals-min_val) > threshold\n",
    "        labels = a.astype(int)\n",
    "\n",
    "        return labels\n",
    "    \n",
    "    return create_labels"
   ]
  },
  {
   "attachments": {},
   "cell_type": "markdown",
   "metadata": {},
   "source": [
    "## Feature Creation"
   ]
  },
  {
   "attachments": {},
   "cell_type": "markdown",
   "metadata": {},
   "source": [
    "using a window of 5 for testing because we want to capitalize on short term trends"
   ]
  },
  {
   "cell_type": "code",
   "execution_count": 8,
   "metadata": {},
   "outputs": [],
   "source": [
    "feature_window = 5\n",
    "\n",
    "goog_data['sma'] = sma(goog_data['CLOSE'], feature_window).pct_change()\n",
    "googl_data['sma'] = sma(googl_data['CLOSE'], feature_window).pct_change()\n",
    "\n",
    "goog_data['ewma'] = ewma(goog_data['CLOSE'], feature_window).pct_change()\n",
    "googl_data['ewma'] = ewma(googl_data['CLOSE'], feature_window).pct_change()\n",
    "\n",
    "goog_data['mfi'] = mfi(goog_data, feature_window).pct_change()\n",
    "googl_data['mfi'] = mfi(googl_data, feature_window).pct_change()\n",
    "\n",
    "goog_data['rsi'] = rsi(goog_data, feature_window).pct_change()\n",
    "googl_data['rsi'] = rsi(googl_data, feature_window).pct_change()\n",
    "\n",
    "goog_data['price'] = goog_data['CLOSE'].pct_change()\n",
    "googl_data['price'] = googl_data['CLOSE'].pct_change()\n",
    "\n",
    "gg_df = goog_data[feature_window+1:].reset_index(drop=True)\n",
    "ggl_df = googl_data[feature_window+1:].reset_index(drop=True)"
   ]
  },
  {
   "cell_type": "code",
   "execution_count": 9,
   "metadata": {},
   "outputs": [],
   "source": [
    "gg_df.to_csv('./data/goog_processed.csv')\n",
    "ggl_df.to_csv('./data/googl_processed.csv')"
   ]
  },
  {
   "attachments": {},
   "cell_type": "markdown",
   "metadata": {},
   "source": [
    "### Set Hyperparamters"
   ]
  },
  {
   "cell_type": "code",
   "execution_count": 10,
   "metadata": {},
   "outputs": [],
   "source": [
    "threshold = 0.0005\n",
    "window = 5\n",
    "\n",
    "label_func = create_label_func(threshold = threshold, window = window)"
   ]
  },
  {
   "cell_type": "code",
   "execution_count": 23,
   "metadata": {},
   "outputs": [],
   "source": [
    "OU_transform = OU(gg_df, ggl_df)"
   ]
  },
  {
   "attachments": {},
   "cell_type": "markdown",
   "metadata": {},
   "source": [
    ":model_size:    How large of a training set we want to use for sliding window cross-validation\n",
    "\n",
    ":eval_size:        How large of a test we want our sliding window to be evaluated on\n",
    "\n",
    "EXAMPLE: model_size = 30,000, eval_size = 10,000\n",
    "\n",
    "TRAIN: [0:30000] TEST: [30000:40000]\n",
    "\n",
    "TRAIN: [10000:40000] TEST: [40000:50000]\n",
    "\n",
    "...."
   ]
  },
  {
   "cell_type": "code",
   "execution_count": 24,
   "metadata": {},
   "outputs": [
    {
     "name": "stdout",
     "output_type": "stream",
     "text": [
      "Sliding window split successful\n"
     ]
    }
   ],
   "source": [
    "OU_transform.split_slide(m_size=2000, e_size=100)"
   ]
  },
  {
   "cell_type": "code",
   "execution_count": 13,
   "metadata": {},
   "outputs": [],
   "source": [
    "info = OU_transform.get_splits(['price', 'sma', 'ewma', 'mfi', 'rsi'], label_func=label_func, scale=True)"
   ]
  },
  {
   "cell_type": "code",
   "execution_count": 14,
   "metadata": {},
   "outputs": [],
   "source": [
    "save_dir = './data/info.npy'\n",
    "\n",
    "np.save(save_dir, info)"
   ]
  },
  {
   "cell_type": "code",
   "execution_count": 22,
   "metadata": {},
   "outputs": [
    {
     "data": {
      "text/plain": [
       "array([132718,  68729])"
      ]
     },
     "execution_count": 22,
     "metadata": {},
     "output_type": "execute_result"
    }
   ],
   "source": [
    "labels = np.hstack([fold['test']['labels'].values for fold in info])\n",
    "np.bincount(labels)"
   ]
  }
 ],
 "metadata": {
  "kernelspec": {
   "display_name": "tensorflow",
   "language": "python",
   "name": "python3"
  },
  "language_info": {
   "codemirror_mode": {
    "name": "ipython",
    "version": 3
   },
   "file_extension": ".py",
   "mimetype": "text/x-python",
   "name": "python",
   "nbconvert_exporter": "python",
   "pygments_lexer": "ipython3",
   "version": "3.10.9"
  },
  "orig_nbformat": 4
 },
 "nbformat": 4,
 "nbformat_minor": 2
}
